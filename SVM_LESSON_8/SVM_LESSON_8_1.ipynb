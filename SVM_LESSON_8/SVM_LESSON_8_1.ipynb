{
 "cells": [
  {
   "cell_type": "code",
   "execution_count": 7,
   "id": "e2585d6d-19f7-4ab1-8d9a-0b6cfca6ee97",
   "metadata": {},
   "outputs": [],
   "source": [
    "import pandas as pd\n",
    "import numpy as np\n",
    "import matplotlib.pyplot as plt\n",
    "import sklearn as sk"
   ]
  },
  {
   "cell_type": "code",
   "execution_count": 50,
   "id": "c2d0ffa9-aaa6-427e-bee8-078d7775a83f",
   "metadata": {},
   "outputs": [],
   "source": [
    "# Creating data set\n",
    "def create_df_iris():\n",
    "    from sklearn.datasets import load_iris\n",
    "    \n",
    "    np.random.seed = 2021\n",
    "    iris = load_iris()\n",
    "    \n",
    "    data, target, target_names, feature_names  = iris.data, iris.target, iris.target_names, iris['feature_names']\n",
    "    \n",
    "    df_iris= pd.DataFrame(data, columns = feature_names) \n",
    "    df_iris['target'] =  target\n",
    "    features_dict = {k:v for k,v in  enumerate(target_names)}\n",
    "    df_iris['target_names'] = df_iris.target.apply(lambda x: features_dict[x])\n",
    "    \n",
    "    return df_iris"
   ]
  },
  {
   "cell_type": "code",
   "execution_count": 74,
   "id": "a327c979-fc80-44a2-86b6-3b2766f8d804",
   "metadata": {},
   "outputs": [
    {
     "name": "stdout",
     "output_type": "stream",
     "text": [
      "linear score: 0.9736842105263158\n",
      "rbf score: 0.9736842105263158\n",
      "poly score: 0.9736842105263158\n"
     ]
    }
   ],
   "source": [
    "from sklearn.model_selection import train_test_split\n",
    "from sklearn.svm import SVC\n",
    "\n",
    "data = create_df_iris()\n",
    "\n",
    "Y = data['target_names']\n",
    "X = data.drop(['target', 'target_names'], axis = 1).to_numpy()\n",
    "\n",
    "X_train, X_test, Y_train, Y_test = train_test_split(X,Y, random_state = 0)\n",
    "\n",
    "clf = SVC(kernel = 'linear', C = 1)\n",
    "clf.fit(X_train,Y_train)\n",
    "score = clf.score(X_test,Y_test)\n",
    "print(\"linear score: {}\".format(score))\n",
    "\n",
    "clf = SVC(kernel = 'rbf', C = 1)\n",
    "clf.fit(X_train,Y_train)\n",
    "score = clf.score(X_test,Y_test)\n",
    "print(\"rbf score: {}\".format(score))\n",
    "\n",
    "clf = SVC(kernel = 'poly', C = 1)\n",
    "clf.fit(X_train,Y_train)\n",
    "score = clf.score(X_test,Y_test)\n",
    "print(\"poly score: {}\".format(score))\n"
   ]
  }
 ],
 "metadata": {
  "kernelspec": {
   "display_name": "Python 3 (ipykernel)",
   "language": "python",
   "name": "python3"
  },
  "language_info": {
   "codemirror_mode": {
    "name": "ipython",
    "version": 3
   },
   "file_extension": ".py",
   "mimetype": "text/x-python",
   "name": "python",
   "nbconvert_exporter": "python",
   "pygments_lexer": "ipython3",
   "version": "3.9.13"
  }
 },
 "nbformat": 4,
 "nbformat_minor": 5
}
