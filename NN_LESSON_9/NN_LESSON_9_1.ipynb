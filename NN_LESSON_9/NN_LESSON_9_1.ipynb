{
 "cells": [
  {
   "cell_type": "code",
   "execution_count": 1,
   "id": "3459d981-ce05-4714-be10-a9b38c1ee0cb",
   "metadata": {},
   "outputs": [
    {
     "name": "stdout",
     "output_type": "stream",
     "text": [
      "X.shape=  (569, 30)\n",
      "y.shape=  (569,)\n"
     ]
    }
   ],
   "source": [
    "from sklearn.datasets import load_breast_cancer\n",
    "from sklearn.model_selection import train_test_split\n",
    "X, y = load_breast_cancer(return_X_y= True)\n",
    "print ('X.shape= ', X.shape)\n",
    "print ('y.shape= ', y.shape)"
   ]
  },
  {
   "cell_type": "code",
   "execution_count": 2,
   "id": "94598459-f3b5-427f-9b95-2958d19d3d6b",
   "metadata": {},
   "outputs": [
    {
     "name": "stdout",
     "output_type": "stream",
     "text": [
      "train accuracy= 100.000%\n",
      "test accuracy= 96.503%\n"
     ]
    }
   ],
   "source": [
    "from sklearn.neural_network import MLPClassifier\n",
    "from sklearn.preprocessing import StandardScaler\n",
    "\n",
    "# YOUR_CODE.  Preproces data, train classifier and evaluate the perfromance on train and test sets \n",
    "# START_CODE \n",
    "\n",
    "# Splitting\n",
    "X_train, X_test, y_train, y_test = train_test_split(X, y)\n",
    "\n",
    "# Standardize the features\n",
    "scaler = StandardScaler()\n",
    "X_train_scaled = scaler.fit_transform(X_train)\n",
    "X_test_scaled = scaler.transform(X_test)\n",
    "\n",
    "clf= MLPClassifier(solver = 'lbfgs')\n",
    "clf.fit(X_train_scaled, y_train)\n",
    "print(\"train accuracy= {:.3%}\".format(clf.score(X_train_scaled, y_train)))\n",
    "print(\"test accuracy= {:.3%}\".format(clf.score(X_test_scaled, y_test)))\n",
    "\n",
    "# END_CODE     "
   ]
  },
  {
   "cell_type": "code",
   "execution_count": null,
   "id": "cddad4d9-4307-4609-a257-d437066dd228",
   "metadata": {},
   "outputs": [],
   "source": []
  }
 ],
 "metadata": {
  "kernelspec": {
   "display_name": "Python 3 (ipykernel)",
   "language": "python",
   "name": "python3"
  },
  "language_info": {
   "codemirror_mode": {
    "name": "ipython",
    "version": 3
   },
   "file_extension": ".py",
   "mimetype": "text/x-python",
   "name": "python",
   "nbconvert_exporter": "python",
   "pygments_lexer": "ipython3",
   "version": "3.9.13"
  }
 },
 "nbformat": 4,
 "nbformat_minor": 5
}
