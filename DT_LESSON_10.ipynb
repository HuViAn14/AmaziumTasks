{
 "cells": [
  {
   "cell_type": "code",
   "execution_count": 1,
   "id": "e08cc44f-c5c3-4632-b8c5-f2017ee48c0f",
   "metadata": {},
   "outputs": [
    {
     "name": "stdout",
     "output_type": "stream",
     "text": [
      "labels: ['malignant' 'benign']\n",
      "features: ['mean radius' 'mean texture' 'mean perimeter' 'mean area'\n",
      " 'mean smoothness' 'mean compactness' 'mean concavity'\n",
      " 'mean concave points' 'mean symmetry' 'mean fractal dimension'\n",
      " 'radius error' 'texture error' 'perimeter error' 'area error'\n",
      " 'smoothness error' 'compactness error' 'concavity error'\n",
      " 'concave points error' 'symmetry error' 'fractal dimension error'\n",
      " 'worst radius' 'worst texture' 'worst perimeter' 'worst area'\n",
      " 'worst smoothness' 'worst compactness' 'worst concavity'\n",
      " 'worst concave points' 'worst symmetry' 'worst fractal dimension']\n"
     ]
    }
   ],
   "source": [
    "from sklearn.datasets import load_breast_cancer\n",
    "from sklearn.model_selection import train_test_split\n",
    "cancer = load_breast_cancer()\n",
    "X, y, labels, features = cancer.data, cancer.target, cancer.target_names, cancer.feature_names\n",
    "print ('labels:',labels)\n",
    "print ('features:', features)\n",
    "\n",
    "X_train, X_test, y_train, y_test = train_test_split(X, y, random_state = 0)"
   ]
  },
  {
   "cell_type": "code",
   "execution_count": 2,
   "id": "108ff7be-777d-4bd5-8015-6356622bf6fc",
   "metadata": {},
   "outputs": [
    {
     "name": "stdout",
     "output_type": "stream",
     "text": [
      "train accuracy= 100.000%\n",
      "test accuracy= 95.105%\n"
     ]
    }
   ],
   "source": [
    "from sklearn.tree import DecisionTreeClassifier\n",
    "\n",
    "# YOUR_CODE.  create the classifier and train it \n",
    "# START_CODE \n",
    "clf = DecisionTreeClassifier(\n",
    "    criterion=  'entropy',\n",
    "    random_state=20,           \n",
    ").fit(X_train, y_train)\n",
    "# END_CODE \n",
    "\n",
    "print(\"train accuracy= {:.3%}\".format(clf.score (X_train, y_train)))\n",
    "print(\"test accuracy= {:.3%}\".format(clf.score (X_test, y_test)))\n"
   ]
  },
  {
   "cell_type": "code",
   "execution_count": 3,
   "id": "a3abe364-b0ea-4a20-9ba5-aaf0101cb085",
   "metadata": {},
   "outputs": [
    {
     "name": "stdout",
     "output_type": "stream",
     "text": [
      "train accuracy= 100.000%\n",
      "test accuracy= 96.503%\n"
     ]
    }
   ],
   "source": [
    "from sklearn.ensemble import RandomForestClassifier\n",
    "\n",
    "# YOUR_CODE.  create the classifier and train it \n",
    "# START_CODE \n",
    "clf = RandomForestClassifier().fit (X_train, y_train)\n",
    "# END_CODE \n",
    "\n",
    "print(\"train accuracy= {:.3%}\".format(clf.score (X_train, y_train)))\n",
    "print(\"test accuracy= {:.3%}\".format(clf.score (X_test, y_test)))"
   ]
  },
  {
   "cell_type": "code",
   "execution_count": 4,
   "id": "4096b7f8-916a-4e05-9972-b3426bf95193",
   "metadata": {},
   "outputs": [
    {
     "name": "stdout",
     "output_type": "stream",
     "text": [
      "train accuracy= 98.826%\n",
      "test accuracy= 95.804%\n"
     ]
    }
   ],
   "source": [
    "from sklearn.ensemble import GradientBoostingClassifier\n",
    "\n",
    "# YOUR_CODE.  create the classifier and train it \n",
    "# START_CODE \n",
    "clf = GradientBoostingClassifier(learning_rate=0.01,max_depth=3).fit(X_train, y_train)\n",
    "# END_CODE \n",
    "\n",
    "print(\"train accuracy= {:.3%}\".format(clf.score (X_train, y_train)))\n",
    "print(\"test accuracy= {:.3%}\".format(clf.score (X_test, y_test)))"
   ]
  },
  {
   "cell_type": "code",
   "execution_count": 5,
   "id": "cca6641e-bc6c-4b9f-aac0-fbe9b574e89f",
   "metadata": {},
   "outputs": [
    {
     "name": "stdout",
     "output_type": "stream",
     "text": [
      "train accuracy= 98.826%\n",
      "test accuracy= 95.804%\n"
     ]
    }
   ],
   "source": [
    "from xgboost import XGBClassifier\n",
    "\n",
    "# YOUR_CODE.  create the classifier and train it \n",
    "# START_CODE \n",
    "clf_xgboost = XGBClassifier(use_label_encoder=False, eval_metric= 'logloss').fit(X_train, y_train)\n",
    "# END_CODE \n",
    "\n",
    "print(\"train accuracy= {:.3%}\".format(clf.score (X_train, y_train)))\n",
    "print(\"test accuracy= {:.3%}\".format(clf.score (X_test, y_test)))"
   ]
  }
 ],
 "metadata": {
  "kernelspec": {
   "display_name": "Python 3 (ipykernel)",
   "language": "python",
   "name": "python3"
  },
  "language_info": {
   "codemirror_mode": {
    "name": "ipython",
    "version": 3
   },
   "file_extension": ".py",
   "mimetype": "text/x-python",
   "name": "python",
   "nbconvert_exporter": "python",
   "pygments_lexer": "ipython3",
   "version": "3.9.13"
  }
 },
 "nbformat": 4,
 "nbformat_minor": 5
}
