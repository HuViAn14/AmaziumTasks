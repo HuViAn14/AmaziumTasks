{
 "cells": [
  {
   "cell_type": "code",
   "execution_count": 1,
   "id": "f5b93dc3-3e65-48dd-be1b-268ae30adbf0",
   "metadata": {},
   "outputs": [],
   "source": [
    "import pandas as pd\n",
    "import numpy as np\n",
    "import matplotlib.pyplot as plt\n",
    "import sklearn as sk"
   ]
  },
  {
   "cell_type": "code",
   "execution_count": 2,
   "id": "009b8d7a-b9dd-4af8-9de4-dac4eb85cc60",
   "metadata": {},
   "outputs": [],
   "source": [
    "# Creating data set\n",
    "def create_df_iris():\n",
    "    from sklearn.datasets import load_iris\n",
    "    \n",
    "    np.random.seed = 2021\n",
    "    iris = load_iris()\n",
    "    \n",
    "    data, target, target_names, feature_names  = iris.data, iris.target, iris.target_names, iris['feature_names']\n",
    "    \n",
    "    df_iris= pd.DataFrame(data, columns = feature_names) \n",
    "    df_iris['label'] =  target\n",
    "    features_dict = {k:v for k,v in  enumerate(target_names)}\n",
    "    df_iris['label_names'] = df_iris.label.apply(lambda x: features_dict[x])\n",
    "    \n",
    "    return df_iris"
   ]
  },
  {
   "cell_type": "code",
   "execution_count": 3,
   "id": "f8370686-bfe8-4397-b7e0-644c8fae395f",
   "metadata": {},
   "outputs": [],
   "source": [
    "# Spliting values\n",
    "def split(X, y):\n",
    "    from sklearn.model_selection import train_test_split\n",
    "    \n",
    "    return train_test_split(X, y, random_state=0)"
   ]
  },
  {
   "cell_type": "code",
   "execution_count": 4,
   "id": "5330fbf4-9d41-4d25-8e9c-dcc258e8f319",
   "metadata": {},
   "outputs": [],
   "source": [
    "# Scalling \n",
    "def scalling(X_train, X_test):\n",
    "    from sklearn.preprocessing import StandardScaler\n",
    "    \n",
    "    scaler = StandardScaler()\n",
    "    \n",
    "    X_train = scaler.fit_transform(X_train)\n",
    "    X_test = scaler.transform(X_test)\n",
    "\n",
    "    return X_train, X_test"
   ]
  },
  {
   "cell_type": "code",
   "execution_count": 5,
   "id": "5e077d12-633a-460b-bb36-b88fe536c77a",
   "metadata": {},
   "outputs": [],
   "source": [
    "def KNN(X_train, X_test, y_train, y_test, k):\n",
    "    from sklearn.neighbors import KNeighborsClassifier as KNC\n",
    "    \n",
    "    classifier = KNC(n_neighbors = k)\n",
    "    classifier.fit(X_train, y_train)\n",
    "\n",
    "    score = classifier.score(X_test, y_test)\n",
    "    \n",
    "    return score"
   ]
  },
  {
   "cell_type": "code",
   "execution_count": 6,
   "id": "ec1075a1-5354-4e4e-af95-42cff7e6aaf6",
   "metadata": {},
   "outputs": [
    {
     "name": "stdout",
     "output_type": "stream",
     "text": [
      "Best score - 0.9736842105263158 with k - 3\n"
     ]
    }
   ],
   "source": [
    "df_iris = create_df_iris()\n",
    "\n",
    "X = df_iris.iloc[:,:-2]\n",
    "y = df_iris.iloc[:, 5]\n",
    "\n",
    "X_train, X_test, y_train, y_test = split(X,y)\n",
    "X_train, X_test = scalling(X_train, X_test)\n",
    "\n",
    "best_score = KNN(X_train, X_test, y_train, y_test, 1)\n",
    "best_k = 1\n",
    "for k in range(2, len(X_train)):\n",
    "    score = KNN(X_train, X_test, y_train, y_test, k)\n",
    "    \n",
    "    if best_score < score:\n",
    "        best_score = score\n",
    "        best_k = k\n",
    "\n",
    "print(\"Best score - {} with k - {}\".format(best_score, best_k))"
   ]
  }
 ],
 "metadata": {
  "kernelspec": {
   "display_name": "Python 3 (ipykernel)",
   "language": "python",
   "name": "python3"
  },
  "language_info": {
   "codemirror_mode": {
    "name": "ipython",
    "version": 3
   },
   "file_extension": ".py",
   "mimetype": "text/x-python",
   "name": "python",
   "nbconvert_exporter": "python",
   "pygments_lexer": "ipython3",
   "version": "3.9.13"
  }
 },
 "nbformat": 4,
 "nbformat_minor": 5
}
