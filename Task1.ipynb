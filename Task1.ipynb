{
 "cells": [
  {
   "cell_type": "code",
   "execution_count": null,
   "id": "6253e9fd-7d4c-44f7-81e1-1f2b2a91ce9f",
   "metadata": {},
   "outputs": [],
   "source": [
    "#pip install matplotlib"
   ]
  },
  {
   "cell_type": "code",
   "execution_count": null,
   "id": "176a14bf-d9a4-409c-a710-6147403edd77",
   "metadata": {},
   "outputs": [],
   "source": [
    "import numpy as np\n",
    "import matplotlib.pyplot as plt"
   ]
  },
  {
   "cell_type": "code",
   "execution_count": null,
   "id": "6337ecde-516d-43fd-b4d8-136677421957",
   "metadata": {},
   "outputs": [],
   "source": [
    "np.random.seed(2023)\n",
    "a = np.random.randint(1,100,20)"
   ]
  },
  {
   "cell_type": "code",
   "execution_count": null,
   "id": "f3851254-94ab-41a0-972d-97874a3b4a69",
   "metadata": {},
   "outputs": [],
   "source": [
    "first_point = [a[0], 0] #array([0] - height, [1] - weight) for first point of lake(start of lake) \n",
    "second_point = np.zeros(2) # array([0] - height, [1] - weight) for last point of lake(end of lake)\n",
    "deepest = np.zeros(3) # deepest point array([0] - height, [1] - weight, [2] - depth)\n",
    "deep = -1 # temp variable for depth of lake\n",
    "\n",
    "#loop for finding deepest lake\n",
    "for i in range(1, a.shape[0]):\n",
    "    if a[i] > first_point[0]: # check if we find second border of lake(with idea that \"first_point\" is left border of lake)\n",
    "        second_point[0] = a[i] # if condition is met, we saving second point(end of lake) \n",
    "        second_point[1] = i\n",
    "        lower = np.min(a[int(first_point[1]):int(second_point[1])]) # finding lowest(deepest) point in subarray between \"first_point\" and \"second_point\" \n",
    "        deep = first_point[0] - lower if first_point[1] < second_point[1] else second_point[0]-lower # finding depth of lake\n",
    "        if deep > 0:\n",
    "            if deep > deepest[2]: # checking if depth of our lake is greater then deepest lake found before\n",
    "                deepest = [first_point[1], second_point[1], deep, np.argmin(a[int(first_point[1]):int(second_point[1])])+first_point[1]]\n",
    "                first_point = second_point\n",
    "                second_point =  np.zeros(2)\n",
    "        else: # if coundition isn't meet we giving first_point value of second_point and nulling second_point and repeat \n",
    "              #the proccess until we get to the the end of array\n",
    "            first_point = second_point\n",
    "            second_point =  np.zeros(2)\n",
    "            deep = 0\n",
    "\n",
    "#this part of code making same thing but if first_point at the start was the highest point in array\n",
    "second_point[1] = np.argmax(a[int(first_point[1])+1:])+first_point[1]+1\n",
    "second_point[0] = a[int(second_point[1])]\n",
    "lower_index = int(np.argmin(a[int(first_point[1]):int(second_point[1])])+first_point[1])\n",
    "deep = int(first_point[0]) - int(a[lower_index]) if first_point[1] < second_point[1] else second_point[0]-a[lower_index]\n",
    "if deepest[2] < deep:\n",
    "    deepest = [first_point[1], second_point[1], deep, lower_index]\n",
    "    \n",
    "print(\"Lake boundaries is \", deepest[0], deepest[1], ';')\n",
    "print(\"Deepest point is \", deepest[3])\n",
    "print(\"Biggest deapth of the lake is \", deepest[2])\n",
    "\n",
    "plt.plot(a)\n",
    "plt.plot(range(int(deepest[0]), 1+int(deepest[1])), a[range(int(deepest[0]), 1+int(deepest[1]))], c='red')\n",
    "plt.show()"
   ]
  },
  {
   "cell_type": "code",
   "execution_count": null,
   "id": "6e1acbf3-d653-484b-be9d-1006e9d1dfd0",
   "metadata": {},
   "outputs": [],
   "source": []
  },
  {
   "cell_type": "code",
   "execution_count": null,
   "id": "80350c80-c1cd-4727-8432-cdcfd0b94ae3",
   "metadata": {},
   "outputs": [],
   "source": []
  }
 ],
 "metadata": {
  "kernelspec": {
   "display_name": "Python 3 (ipykernel)",
   "language": "python",
   "name": "python3"
  },
  "language_info": {
   "codemirror_mode": {
    "name": "ipython",
    "version": 3
   },
   "file_extension": ".py",
   "mimetype": "text/x-python",
   "name": "python",
   "nbconvert_exporter": "python",
   "pygments_lexer": "ipython3",
   "version": "3.9.13"
  }
 },
 "nbformat": 4,
 "nbformat_minor": 5
}
